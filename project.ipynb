{
 "cells": [
  {
   "cell_type": "code",
   "execution_count": 1,
   "id": "d8b3d0f0-aba1-4bed-bc2d-67544283db7e",
   "metadata": {},
   "outputs": [],
   "source": [
    "import pandas as pd\n",
    "import numpy as np\n",
    "import matplotlib.pyplot as plt\n",
    "from sklearn.model_selection import train_test_split\n",
    "from sklearn.ensemble import RandomForestRegressor\n",
    "from sklearn.metrics import mean_squared_error"
   ]
  },
  {
   "cell_type": "code",
   "execution_count": 3,
   "id": "4c920fe6-cb98-4326-afaf-c96b19d04506",
   "metadata": {},
   "outputs": [],
   "source": [
    "data = {\n",
    "    'Relative Humidity at 2 Meters (%)': [\n",
    "        83.4, 82.11, 82.79, 85.07, 84.12, 84.54, 84.63, 85.43, 84.36, 83.43, 84.39, 84.24, 85.33, 85.45, 85.77, 85.76, 84.36,\n",
    "        84.03, 86.04, 85.98, 86.02, 84.48, 85.54, 85.16, 84.92, 86.09, 86.03, 86.1, 85.51, 84.23, 85.42, 84.98, 84.67, 83.44,\n",
    "        83.65, 83.45, 85.48, 84.85, 83.52, 83.4, 82.11, 82.79, 85.07, 84.12, 84.54, 84.63, 85.43, 84.36, 83.43, 84.39, 84.24,\n",
    "        85.33, 85.45, 85.77, 85.76, 84.36, 84.03, 86.04, 85.98, 86.02, 84.48, 85.54, 85.16, 84.92, 86.09, 86.03, 86.1, 85.51,\n",
    "        84.23, 85.42, 84.98, 84.67, 83.44, 83.65, 83.45, 85.48, 84.85, 83.52\n",
    "    ],\n",
    "    'Temperature at 2 Meters (C)': [\n",
    "        26.01, 26.11, 26.24, 25.56, 25.76, 25.76, 26.11, 26.12, 25.88, 26.21, 26.1, 26.11, 26.02, 26.02, 26.13, 25.93, 26.27,\n",
    "        26.79, 25.95, 26.02, 26.1, 26.25, 26.18, 26.18, 26.28, 26.18, 26.11, 26.03, 26.23, 26.49, 26.06, 26.3, 26.35, 26.43,\n",
    "        26.47, 26.81, 26.46, 26.43, 26.72, 26.01, 26.11, 26.24, 25.56, 25.76, 25.76, 26.11, 26.12, 25.88, 26.21, 26.1, 26.11,\n",
    "        26.02, 26.02, 26.13, 25.93, 26.27, 26.79, 25.95, 26.02, 26.1, 26.25, 26.18, 26.18, 26.28, 26.09, 26.03, 26.23, 26.49,\n",
    "        26.06, 26.3, 26.35, 26.43, 26.47, 26.81, 26.46, 26.43, 26.72\n",
    "    ],\n",
    "    'Yield': [\n",
    "        11560, 11253, 9456, 9321, 8800, 8850, 9003, 9880, 9201, 8300, 5765, 5812, 6667, 6530, 6912, 7138, 7525, 7663, 8300,\n",
    "        9274, 9956, 9801, 7965, 7919, 8226, 10062, 12362, 13056, 10058, 7795, 10737, 7979, 7066, 7991, 11108, 11487, 7314,\n",
    "        9502, 8848, 169783, 201436, 152343, 181826, 178183, 169781, 166042, 165262, 183004, 177543, 150428, 151070, 172165,\n",
    "        160862, 166136, 163541, 164772, 142425, 165993, 167621, 168476, 162240, 175629, 180323, 184629, 190626, 183544, 195523,\n",
    "        182696, 171189, 185831, 186959, 181496, 203399, 202379, 172601, 199074, 189657, 189896, 28409, 27619, 26041, 25187,\n",
    "        26648, 26399, 24686, 25251, 26251, 27694, 28178, 29918, 30348, 30614, 31619, 32510, 30676, 28829, 29415, 30640, 31101,\n",
    "        32385, 33596, 33260, 34221, 33907, 35277, 35836, 37205, 36361, 37468, 37972, 38763, 29855, 40223, 39775, 37496, 37704,\n",
    "        42550\n",
    "    ]\n",
    "}\n"
   ]
  },
  {
   "cell_type": "code",
   "execution_count": 5,
   "id": "51d9320c-728d-469d-a8f2-44862a898a41",
   "metadata": {},
   "outputs": [],
   "source": [
    "min_length = min(len(data['Relative Humidity at 2 Meters (%)']), len(data['Temperature at 2 Meters (C)']), len(data['Yield']))\n",
    "\n",
    "# Truncate all lists to the minimum length\n",
    "data['Relative Humidity at 2 Meters (%)'] = data['Relative Humidity at 2 Meters (%)'][:min_length]\n",
    "data['Temperature at 2 Meters (C)'] = data['Temperature at 2 Meters (C)'][:min_length]\n",
    "data['Yield'] = data['Yield'][:min_length]"
   ]
  },
  {
   "cell_type": "code",
   "execution_count": 9,
   "id": "4e3e5d18-2617-4c35-9cce-977218a100da",
   "metadata": {},
   "outputs": [],
   "source": [
    "df = pd.DataFrame(data)"
   ]
  },
  {
   "cell_type": "code",
   "execution_count": 11,
   "id": "26f93c1a-7e5d-4620-be88-42d41f386dcc",
   "metadata": {},
   "outputs": [
    {
     "name": "stdout",
     "output_type": "stream",
     "text": [
      "    Relative Humidity at 2 Meters (%)  Temperature at 2 Meters (C)   Yield\n",
      "0                               83.40                        26.01   11560\n",
      "1                               82.11                        26.11   11253\n",
      "2                               82.79                        26.24    9456\n",
      "3                               85.07                        25.56    9321\n",
      "4                               84.12                        25.76    8800\n",
      "..                                ...                          ...     ...\n",
      "72                              83.44                        26.47  203399\n",
      "73                              83.65                        26.81  202379\n",
      "74                              83.45                        26.46  172601\n",
      "75                              85.48                        26.43  199074\n",
      "76                              84.85                        26.72  189657\n",
      "\n",
      "[77 rows x 3 columns]\n"
     ]
    }
   ],
   "source": [
    "print(df)"
   ]
  },
  {
   "cell_type": "code",
   "execution_count": null,
   "id": "caee2d01-3f12-471c-859b-a7754abf2198",
   "metadata": {},
   "outputs": [],
   "source": [
    "public class CropData {\n",
    "    private String crop;\n",
    "    private double precipitation;\n",
    "    private double humidity;\n",
    "    private double specificHumidity;\n",
    "    private double temperature;\n",
    "    private int yield;\n",
    "\n",
    "    public CropData(String crop, double precipitation, double humidity, double specificHumidity, double temperature, int yield) {\n",
    "        this.crop = crop;\n",
    "        this.precipitation = precipitation;\n",
    "        this.humidity = humidity;\n",
    "        this.specificHumidity = specificHumidity;\n",
    "        this.temperature = temperature;\n",
    "        this.yield = yield;\n",
    "    }\n",
    "\n",
    "    public String getCrop() {\n",
    "        return crop;\n",
    "    }\n",
    "\n",
    "    public double getPrecipitation() {\n",
    "        return precipitation;\n",
    "    }\n",
    "\n",
    "    public double getHumidity() {\n",
    "        return humidity;\n",
    "    }\n",
    "\n",
    "    public double getSpecificHumidity() {\n",
    "        return specificHumidity;\n",
    "    }\n",
    "\n",
    "    public double getTemperature() {\n",
    "        return temperature;\n",
    "    }\n",
    "\n",
    "    public int getYield() {\n",
    "        return yield;\n",
    "    }\n",
    "\n",
    "    public static void main(String[] args) {\n",
    "        CropData crop1 = new CropData(\"Cocoa, beans\", 2248.92, 83.4, 17.72, 26.01, 11560);\n",
    "        System.out.println(\"Crop: \" + crop1.getCrop());\n",
    "        System.out.println(\"Precipitation: \" + crop1.getPrecipitation());\n",
    "        // Print other details similarly\n",
    "    }\n",
    "}\n"
   ]
  }
 ],
 "metadata": {
  "kernelspec": {
   "display_name": "Python 3 (ipykernel)",
   "language": "python",
   "name": "python3"
  },
  "language_info": {
   "codemirror_mode": {
    "name": "ipython",
    "version": 3
   },
   "file_extension": ".py",
   "mimetype": "text/x-python",
   "name": "python",
   "nbconvert_exporter": "python",
   "pygments_lexer": "ipython3",
   "version": "3.12.4"
  }
 },
 "nbformat": 4,
 "nbformat_minor": 5
}
