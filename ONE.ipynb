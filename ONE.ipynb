{
 "cells": [
  {
   "cell_type": "code",
   "execution_count": 1,
   "id": "9e94919e-d50f-4489-85fd-95b81c456bd8",
   "metadata": {},
   "outputs": [],
   "source": [
    "import streamlit as st\n",
    "import pandas as pd\n",
    "import numpy as np\n",
    "import matplotlib.pyplot as plt\n",
    "import seaborn as sns\n",
    "\n",
    "from sklearn.model_selection import train_test_split\n",
    "from sklearn.preprocessing import LabelEncoder, StandardScaler\n",
    "from sklearn.ensemble import RandomForestClassifier\n",
    "from sklearn.metrics import accuracy_score, confusion_matrix, classification_report"
   ]
  },
  {
   "cell_type": "code",
   "execution_count": null,
   "id": "8fd6acc3-67e9-4e4a-b368-2156579cf08d",
   "metadata": {},
   "outputs": [],
   "source": [
    "st.title(\"🚀 Machine Learning Streamlit App\")\n",
    "st.subheader(\"Using Dataset12.csv\")"
   ]
  },
  {
   "cell_type": "code",
   "execution_count": 57,
   "id": "bff9130a-505d-46ad-afd3-8faaf2d9bb8c",
   "metadata": {},
   "outputs": [],
   "source": [
    "uploaded_file = st.file_uploader(\"Upload your Dataset12.csv\", type=[\"csv\"])"
   ]
  },
  {
   "cell_type": "code",
   "execution_count": 53,
   "id": "2b656ec6-3f9f-47c5-8fff-1dd0d057172a",
   "metadata": {},
   "outputs": [],
   "source": [
    "if uploaded_file is not None:\n",
    "    df = pd.read_csv(uploaded_file)\n"
   ]
  },
  {
   "cell_type": "code",
   "execution_count": null,
   "id": "8b930149-b6fc-496f-b704-f3fc580129e7",
   "metadata": {},
   "outputs": [],
   "source": [
    "  st.write(\"### 📏 Dataset Shape:\")\n",
    "    st.write(df.shape)\n"
   ]
  },
  {
   "cell_type": "code",
   "execution_count": null,
   "id": "ba4a7f1e-f37d-4553-9b6d-0f6d2f1645ae",
   "metadata": {},
   "outputs": [],
   "source": [
    " st.write(\"### ❓ Missing Values:\")\n",
    "    st.write(df.isnull().sum())"
   ]
  },
  {
   "cell_type": "code",
   "execution_count": null,
   "id": "ca238c4c-fb6d-4b88-afa7-748f163a7c6f",
   "metadata": {},
   "outputs": [],
   "source": [
    "   label_encoders = {}\n",
    "    for column in df.select_dtypes(include=['object']).columns:\n",
    "        le = LabelEncoder()\n",
    "        df[column] = le.fit_transform(df[column])\n",
    "        label_encoders[column] = le"
   ]
  },
  {
   "cell_type": "code",
   "execution_count": null,
   "id": "72e00944-a985-4678-82d1-fa723743d48c",
   "metadata": {},
   "outputs": [],
   "source": [
    " target_column = st.selectbox(\"🎯 Select Target Variable\", df.columns)\n",
    "\n",
    "    X = df.drop(target_column, axis=1)\n",
    "    y = df[target_column]"
   ]
  },
  {
   "cell_type": "code",
   "execution_count": null,
   "id": "fe71a594-b60d-4b52-a895-61f6ae99d54d",
   "metadata": {},
   "outputs": [],
   "source": [
    "  scaler = StandardScaler()\n",
    "    X_scaled = scaler.fit_transform(X)"
   ]
  },
  {
   "cell_type": "code",
   "execution_count": null,
   "id": "c0642044-c1e6-40f8-b3c3-cfca6d00d4fe",
   "metadata": {},
   "outputs": [],
   "source": [
    "   test_size = st.slider(\"🔀 Test Set Size (%)\", 10, 50, 20)\n",
    "    X_train, X_test, y_train, y_test = train_test_split(\n",
    "        X_scaled, y, test_size=test_size/100, random_state=42\n",
    "    )"
   ]
  },
  {
   "cell_type": "code",
   "execution_count": 61,
   "id": "4b63049f-9b59-4527-ba25-79961769124c",
   "metadata": {},
   "outputs": [],
   "source": [
    "  if st.button(\"Train Random Forest Model\"):\n",
    "        model = RandomForestClassifier(random_state=42)\n",
    "        model.fit(X_train, y_train)\n",
    "        y_pred = model.predict(X_test)\n",
    "\n",
    "        # Evaluation\n",
    "        acc = accuracy_score(y_test, y_pred)\n",
    "        st.success(f\"✅ Accuracy: {acc:.2f}\")\n",
    "\n",
    "        st.write(\"### 📝 Classification Report:\")\n",
    "        st.text(classification_report(y_test, y_pred))\n",
    "\n",
    "        st.write(\"### 📊 Confusion Matrix:\")\n",
    "        cm = confusion_matrix(y_test, y_pred)\n",
    "        fig, ax = plt.subplots()\n",
    "        sns.heatmap(cm, annot=True, fmt='d', cmap='Blues', ax=ax)\n",
    "        st.pyplot(fig)"
   ]
  }
 ],
 "metadata": {
  "kernelspec": {
   "display_name": "Python [conda env:base] *",
   "language": "python",
   "name": "conda-base-py"
  },
  "language_info": {
   "codemirror_mode": {
    "name": "ipython",
    "version": 3
   },
   "file_extension": ".py",
   "mimetype": "text/x-python",
   "name": "python",
   "nbconvert_exporter": "python",
   "pygments_lexer": "ipython3",
   "version": "3.12.7"
  }
 },
 "nbformat": 4,
 "nbformat_minor": 5
}
