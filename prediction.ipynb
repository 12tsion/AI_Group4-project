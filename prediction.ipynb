{
 "cells": [
  {
   "cell_type": "code",
   "execution_count": null,
   "id": "377b3c93",
   "metadata": {
    "vscode": {
     "languageId": "plaintext"
    }
   },
   "outputs": [],
   "source": [
    "!pip install numpy pandas scikit-learn matplotlib\n",
    "import pandas as pd\n",
    "import numpy as np\n",
    "import seaborn as sns\n",
    "import matplotlib.pyplot as plt\n",
    "from sklearn.model_selection import train_test_split\n",
    "from sklearn.preprocessing import LabelEncoder\n",
    "from sklearn.ensemble import RandomForestRegressor\n",
    "from xgboost import XGBRegressor\n",
    "from sklearn.linear_model import Lasso\n",
    "from sklearn.tree import DecisionTreeRegressor\n",
    "from sklearn.neighbors import KNeighborsRegressor\n",
    "from sklearn.metrics import mean_absolute_error, mean_squared_error, r2_score\n",
    "\n",
    "\n",
    "file_path = \"/kaggle/input/crop-yield-pred/Dataset12.csv\" \n",
    "df = pd.read_csv(file_path)\n",
    "display(df.info())\n",
    "display(df.head(157))\n",
    "label_encoder = LabelEncoder()\n",
    "df[\"Crop\"] = label_encoder.fit_transform(df[\"Crop\"])\n",
    "X = df.drop(columns=[\"Yield\"])\n",
    "y = df[\"Yield\"]\n",
    "X_train, X_test, y_train, y_test = train_test_split(X, y, test_size=0.2, random_state=42)\n",
    "\n",
    "models = {\n",
    "    \"Random Forest\": RandomForestRegressor(n_estimators=50, random_state=42),\n",
    "    \"XGBoost\": XGBRegressor(n_estimators=50, max_depth=3, random_state=42, verbosity=0),\n",
    "    \"Lasso Regression\": Lasso(alpha=0.1),\n",
    "    \"Decision Tree\": DecisionTreeRegressor(max_depth=5, random_state=42),\n",
    "    \"KNN\": KNeighborsRegressor(n_neighbors=5)\n",
    "}\n",
    "\n",
    "results = {}\n",
    "for name, model in models.items():\n",
    "    model.fit(X_train, y_train)\n",
    "    y_pred = model.predict(X_test)\n",
    "    \n",
    "    mae = mean_absolute_error(y_test, y_pred)\n",
    "    mse = mean_squared_error(y_test, y_pred)\n",
    "    r2 = r2_score(y_test, y_pred)\n",
    "    \n",
    "    results[name] = {\"MAE\": mae, \"MSE\": mse, \"R2 Score\": r2}\n",
    "results_df = pd.DataFrame(results).T\n",
    "print(results_df)\n",
    "plt.figure(figsize=(10, 5))\n",
    "sns.barplot(x=results_df.index, y=results_df[\"R2 Score\"])\n",
    "plt.title(\"Model Performance Comparison (R² Score)\")\n",
    "plt.ylabel(\"R² Score\")\n",
    "plt.xticks(rotation=45)\n",
    "plt.show()"
   ]
  },
  {
   "cell_type": "code",
   "execution_count": null,
   "id": "02d4a176",
   "metadata": {
    "vscode": {
     "languageId": "plaintext"
    }
   },
   "outputs": [],
   "source": [
    "import numpy as np\n",
    "import pandas as pd\n",
    "from sklearn.model_selection import train_test_split\n",
    "from sklearn.preprocessing import StandardScaler\n",
    "from sklearn.preprocessing import LabelEncoder\n",
    "from sklearn.tree import DecisionTreeRegressor # Use Regressor instead of Classifier\n",
    "from sklearn.ensemble import RandomForestRegressor\n",
    "from sklearn.metrics import mean_squared_error, r2_score\n",
    "from sklearn.metrics import accuracy_score, confusion_matrix, classification_report\n",
    "from sklearn.tree import plot_tree\n",
    "import matplotlib.pyplot as plt\n",
    "# Load the dataset\n",
    "df=pd.read_csv('/kaggle/input/crop-yield/Dataset12.csv')\n",
    "# Creating the DataFrame\n",
    "de=pd.DataFrame(df)\n",
    "print(de)\n",
    "\n",
    "\n",
    "\n",
    "\n"
   ]
  },
  {
   "cell_type": "code",
   "execution_count": null,
   "id": "5d813910",
   "metadata": {
    "vscode": {
     "languageId": "plaintext"
    }
   },
   "outputs": [],
   "source": [
    "# Identify categorical columns and apply Label Encoding\n",
    "categorical_columns = df.select_dtypes(include=['object']).columns # Identify all categorical columns\n",
    "# Apply Label Encoding to each categorical column\n",
    "le = LabelEncoder()\n",
    "for col in categorical_columns:\n",
    " df[col] = le.fit_transform(df[col])"
   ]
  },
  {
   "cell_type": "code",
   "execution_count": null,
   "id": "57823a4b",
   "metadata": {
    "vscode": {
     "languageId": "plaintext"
    }
   },
   "outputs": [],
   "source": [
    "# Select features and target variable\n",
    "X = df[['Crop', 'Precipitation (mm day-1)', 'Specific Humidity at 2 Meters (g/kg)', \n",
    " 'Relative Humidity at 2 Meters (%)', 'Temperature at 2 Meters (C)']] # Features\n",
    "y = df['Yield'] # Target variable\n",
    "# Check if 'Yield' is numerical or categorical\n",
    "if df['Yield'].dtype == 'object':\n",
    " raise ValueError(\"Yield should be a numerical column for regression. Check your dataset.\")\n"
   ]
  },
  {
   "cell_type": "code",
   "execution_count": null,
   "id": "1ad3c257",
   "metadata": {
    "vscode": {
     "languageId": "plaintext"
    }
   },
   "outputs": [],
   "source": [
    "# Split the data into training and test sets\n",
    "X_train, X_test, y_train, y_test = train_test_split(X, y, test_size=0.2, random_state=42)\n",
    "# Normalize or Standardize Features\n",
    "scaler = StandardScaler()\n",
    "X_train_scaled = scaler.fit_transform(X_train)\n",
    "X_test_scaled = scaler.transform(X_test)\n",
    "# Initialize the Decision Tree Regressor\n",
    "dt_model = DecisionTreeRegressor(max_depth=30, min_samples_split=3, min_samples_leaf=1, \n",
    "random_state=42)"
   ]
  },
  {
   "cell_type": "code",
   "execution_count": null,
   "id": "514c200d",
   "metadata": {
    "vscode": {
     "languageId": "plaintext"
    }
   },
   "outputs": [],
   "source": [
    "# Train the Decision Tree Model\n",
    "dt_model.fit(X_train_scaled, y_train)\n",
    "# Predict using Decision Tree\n",
    "y_pred_dt = dt_model.predict(X_test_scaled)\n"
   ]
  },
  {
   "cell_type": "code",
   "execution_count": null,
   "id": "4c40eff8",
   "metadata": {
    "vscode": {
     "languageId": "plaintext"
    }
   },
   "outputs": [],
   "source": [
    "# Evaluate Decision Tree Model\n",
    "mse_dt = mean_squared_error(y_test, y_pred_dt)\n",
    "r2_dt = r2_score(y_test, y_pred_dt)\n",
    "print(f\"Decision Tree MSE: {mse_dt:.4f}\")\n",
    "print(f\"Decision Tree R² Score: {r2_dt:.4f}\")"
   ]
  },
  {
   "cell_type": "code",
   "execution_count": null,
   "id": "bc390f24",
   "metadata": {
    "vscode": {
     "languageId": "plaintext"
    }
   },
   "outputs": [],
   "source": [
    "# Try a Different Model: Random Forest Regressor to rreduce Overfitting.\n",
    "rf_model = RandomForestRegressor(n_estimators=100, random_state=42)\n",
    "rf_model.fit(X_train_scaled, y_train)\n",
    "# Predict using Random Forest\n",
    "y_pred_rf = rf_model.predict(X_test_scaled)\n"
   ]
  },
  {
   "cell_type": "code",
   "execution_count": null,
   "id": "4d223154",
   "metadata": {
    "vscode": {
     "languageId": "plaintext"
    }
   },
   "outputs": [],
   "source": [
    "# Evaluate Random Forest Model\n",
    "mse_rf = mean_squared_error(y_test, y_pred_rf)\n",
    "r2_rf = r2_score(y_test, y_pred_rf)\n",
    "print(f\"Random Forest MSE: {mse_rf:.4f}\")\n",
    "print(f\"Random Forest R² Score: {r2_rf:.4f}\")"
   ]
  },
  {
   "cell_type": "code",
   "execution_count": null,
   "id": "80b212b3",
   "metadata": {
    "vscode": {
     "languageId": "plaintext"
    }
   },
   "outputs": [],
   "source": [
    "# Visualize Actual vs. Predicted Results\n",
    "def plot_results(y_test, y_pred, model_name):\n",
    "    plt.figure(figsize=(10, 6))\n",
    " # Ensure axes have the same scale\n",
    "    min_val = min(y_test.min(), y_pred.min())\n",
    "    max_val = max(y_test.max(), y_pred.max())\n",
    "# Scatter plot of actual vs predicted values\n",
    "    plt.scatter(y_test,y_pred,color='blue', alpha=0.5, label=\"Predictions\")\n",
    " \n",
    " # Perfect prediction reference line\n",
    "    plt.plot([min_val, max_val], [min_val, max_val], 'r--', lw=2, label=\"Perfect Fit\")\n",
    "# Labels and title\n",
    "    plt.xlabel('Actual Yield')\n",
    "    plt.ylabel('Predicted Yield')\n",
    "    plt.title(f'Actual vs Predicted Crop Yield ({model_name})')\n",
    "# Force equal scaling\n",
    "    plt.axis(\"equal\") \n",
    "    plt.legend()\n",
    " # Show the plot\n",
    "    plt.tight_layout()\n",
    "    plt.show()\n"
   ]
  },
  {
   "cell_type": "code",
   "execution_count": null,
   "id": "f93ca6a4",
   "metadata": {
    "vscode": {
     "languageId": "plaintext"
    }
   },
   "outputs": [],
   "source": [
    "# Plot results for both models\n",
    "plot_results(y_test, y_pred_dt, \"Decision Tree\")\n",
    "plot_results(y_test, y_pred_rf, \"Random Forest\")"
   ]
  },
  {
   "cell_type": "code",
   "execution_count": null,
   "id": "5826b98d",
   "metadata": {
    "vscode": {
     "languageId": "plaintext"
    }
   },
   "outputs": [],
   "source": [
    "# Set a larger figure size and higher resolution\n",
    "plt.figure(figsize=(25, 20), dpi=300)\n",
    "# Plot the Decision Tree with enhanced visibility\n",
    "plot_tree(dt_model, feature_names=X.columns, filled=True, rounded=True, fontsize=12)\n",
    "# Set a meaningful title\n",
    "plt.title(\"Decision Tree Structure for Crop Yield Prediction\", color='blue', fontsize=25)\n",
    "# Save the figure for better sharing and analysis\n",
    "plt.savefig(\"decision_tree.png\", dpi=300, bbox_inches='tight')\n",
    "# Show the plot\n",
    "plt.show()"
   ]
  },
  {
   "cell_type": "code",
   "execution_count": null,
   "id": "e815c194",
   "metadata": {
    "vscode": {
     "languageId": "plaintext"
    }
   },
   "outputs": [],
   "source": []
  }
 ],
 "metadata": {
  "language_info": {
   "name": "python"
  }
 },
 "nbformat": 4,
 "nbformat_minor": 5
}
